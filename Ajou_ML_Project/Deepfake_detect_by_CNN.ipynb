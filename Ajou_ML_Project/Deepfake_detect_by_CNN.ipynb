{
  "nbformat": 4,
  "nbformat_minor": 0,
  "metadata": {
    "colab": {
      "provenance": [],
      "gpuType": "V100"
    },
    "kernelspec": {
      "name": "python3",
      "display_name": "Python 3"
    },
    "language_info": {
      "name": "python"
    },
    "accelerator": "GPU"
  },
  "cells": [
    {
      "cell_type": "code",
      "execution_count": 1,
      "metadata": {
        "colab": {
          "base_uri": "https://localhost:8080/"
        },
        "id": "3VjLtQB53XeH",
        "outputId": "a2ccdd15-86df-4e33-8848-c8212505c2be"
      },
      "outputs": [
        {
          "output_type": "stream",
          "name": "stdout",
          "text": [
            "Drive already mounted at /content/drive; to attempt to forcibly remount, call drive.mount(\"/content/drive\", force_remount=True).\n"
          ]
        }
      ],
      "source": [
        "from google.colab import drive\n",
        "drive.mount('/content/drive')"
      ]
    },
    {
      "cell_type": "code",
      "source": [
        "ls"
      ],
      "metadata": {
        "colab": {
          "base_uri": "https://localhost:8080/"
        },
        "id": "8BFnb6s93xVL",
        "outputId": "6e4ce793-0590-4f40-b0e7-e8159a8512a0"
      },
      "execution_count": 3,
      "outputs": [
        {
          "output_type": "stream",
          "name": "stdout",
          "text": [
            "\u001b[0m\u001b[01;34mdrive\u001b[0m/  \u001b[01;34msample_data\u001b[0m/\n"
          ]
        }
      ]
    },
    {
      "cell_type": "code",
      "source": [
        "import matplotlib.pyplot as plt\n",
        "# import numpy as np\n",
        "import os\n",
        "import tensorflow as tf\n",
        "from tensorflow import keras\n",
        "from tensorflow.keras import layers\n",
        "from tensorflow.python.keras.layers import Dense, Flatten, Conv2D, MaxPooling2D\n",
        "from tensorflow.keras.models import Sequential"
      ],
      "metadata": {
        "id": "YXIGfYWiKNk8"
      },
      "execution_count": 2,
      "outputs": []
    },
    {
      "cell_type": "code",
      "source": [
        "# Google Drive에 있는 훈련, 검증, 테스트 데이터셋의 경로를 지정합니다\n",
        "train_dir = '/content/drive/MyDrive/dataset/train'\n",
        "test_dir = '/content/drive/MyDrive/dataset/test'\n",
        "validation_dir = '/content/drive/MyDrive/dataset/validation'"
      ],
      "metadata": {
        "id": "J07b1QVX2ZZ8"
      },
      "execution_count": 4,
      "outputs": []
    },
    {
      "cell_type": "code",
      "source": [
        "# 이미지를 0에서 1 사이의 값으로 정규화하는 함수를 정의합니다\n",
        "def normalize_image(image, labels):\n",
        "  image = tf.cast(image, tf.float32) / 255.0\n",
        "  return image, labels"
      ],
      "metadata": {
        "id": "AzpxgYgt2-at"
      },
      "execution_count": 5,
      "outputs": []
    },
    {
      "cell_type": "code",
      "source": [
        "# 지정된 디렉토리에서 이미지 데이터셋을 로드하고, 이미지를 256x256 픽셀로 리사이즈하며, 라벨을 범주형 형식으로 지정합니다.\n",
        "\n",
        "IMG_SIZE = (256, 256)\n",
        "\n",
        "train_data = tf.keras.preprocessing.image_dataset_from_directory(train_dir,\n",
        "                                                                 label_mode = 'categorical',\n",
        "                                                                 batch_size = 32,\n",
        "                                                                 image_size= IMG_SIZE)\n",
        "\n",
        "validation_data = tf.keras.preprocessing.image_dataset_from_directory(validation_dir,\n",
        "                                                                 label_mode = 'categorical',\n",
        "                                                                 batch_size = 32,\n",
        "                                                                 image_size= IMG_SIZE)\n",
        "\n",
        "test_data = tf.keras.preprocessing.image_dataset_from_directory(test_dir,\n",
        "                                                                 label_mode = 'categorical',\n",
        "                                                                 batch_size = 32,\n",
        "                                                                 image_size= IMG_SIZE,\n",
        "                                                                shuffle = False)"
      ],
      "metadata": {
        "colab": {
          "base_uri": "https://localhost:8080/"
        },
        "id": "GH_DDxI83BDX",
        "outputId": "862b46d1-97be-4c3c-8f88-8d53e4d6cf35"
      },
      "execution_count": 6,
      "outputs": [
        {
          "output_type": "stream",
          "name": "stdout",
          "text": [
            "Found 6011 files belonging to 2 classes.\n",
            "Found 2010 files belonging to 2 classes.\n",
            "Found 2000 files belonging to 2 classes.\n"
          ]
        }
      ]
    },
    {
      "cell_type": "code",
      "source": [
        "# 그런 다음 정의된 함수로 데이터를 정규화합니다\n",
        "\n",
        "train_data = train_data.map(normalize_image)\n",
        "validation_data = validation_data.map(normalize_image)\n",
        "test_data = test_data.map(normalize_image)"
      ],
      "metadata": {
        "id": "i6p-to7j3LA9"
      },
      "execution_count": 7,
      "outputs": []
    },
    {
      "cell_type": "code",
      "source": [
        "# Keras Sequential API를 사용하여 CNN 모델을 정의합니다. 모델 아키텍처는 Convolution layer, Maxpooling layer, Batch Normalization, Dropout을 포함합니다. 마지막 레이어는 소프트맥스 활성화를 사용하여 다중 클래스 분류를 수행합니다\n",
        "# Model은 이 데이터를 이용하여 먼저 분류를 해보신 분의 CNN 모델을 참고하였습니다. 이 사람은 512개의 filter로 한 것은 사용하지 않고 주석처리로 남겨놨는데, 아마도 학습 시간이 너무 오래걸려서가 아닐까 생각해봅니다..\n",
        "\n",
        "model_CNN = Sequential([\n",
        "\n",
        "    # Conv2D(filters = 512 , kernel_size=3, padding = 'valid', input_shape = (256, 256, 3), activation= 'relu'),\n",
        "    # tf.keras.layers.MaxPooling2D(),\n",
        "    # tf.keras.layers.BatchNormalization(),\n",
        "\n",
        "    Conv2D(filters = 8, kernel_size = 5,input_shape = (256, 256, 3), activation= 'relu'),\n",
        "    tf.keras.layers.MaxPooling2D(),\n",
        "    tf.keras.layers.BatchNormalization(),\n",
        "\n",
        "    Conv2D(filters= 16, kernel_size=4, activation='relu'),\n",
        "    tf.keras.layers.MaxPooling2D(),\n",
        "    tf.keras.layers.BatchNormalization(),\n",
        "    tf.keras.layers.Dropout(0.2),\n",
        "\n",
        "    Conv2D(filters= 32, kernel_size=3, activation='relu'),\n",
        "    tf.keras.layers.MaxPooling2D(),\n",
        "    tf.keras.layers.BatchNormalization(),\n",
        "\n",
        "    Conv2D(filters= 64, kernel_size=2, activation='relu'),\n",
        "    tf.keras.layers.MaxPooling2D(),\n",
        "    tf.keras.layers.BatchNormalization(),\n",
        "\n",
        "    Conv2D(filters= 128, kernel_size=1, activation='relu'),\n",
        "    tf.keras.layers.MaxPooling2D(),\n",
        "    tf.keras.layers.BatchNormalization(),\n",
        "    tf.keras.layers.Dropout(0.2),\n",
        "\n",
        "    Flatten(),\n",
        "    tf.keras.layers.Dropout(0.3),\n",
        "    Dense(units = 64, activation = 'softmax'),\n",
        "    Dense(units = 20, activation = 'softmax'),\n",
        "    Dense(units = 2, activation = 'softmax')\n",
        "])"
      ],
      "metadata": {
        "id": "0VQC7SM_3YnP"
      },
      "execution_count": 8,
      "outputs": []
    },
    {
      "cell_type": "code",
      "source": [
        "# Adam optimizer, Binary Cross entropy function, accuracy를 평가 지표로 사용하여 모델을 컴파일합니다\n",
        "\n",
        "model_CNN.compile(optimizer = tf.keras.optimizers.Adam(),\n",
        "                loss = 'BinaryCrossentropy',\n",
        "                metrics=['accuracy'])"
      ],
      "metadata": {
        "id": "ZdRBglHA3kVz"
      },
      "execution_count": 9,
      "outputs": []
    },
    {
      "cell_type": "code",
      "source": [
        "# train data를 사용하여 모델을 50번의 epochs 동안 train 시키고, validation data를 사용하여 검증합니다\n",
        "\n",
        "hist = model_CNN.fit(train_data,\n",
        "                    epochs = 50,\n",
        "                    validation_data = validation_data,\n",
        "                    validation_steps = int(0.5 * len(validation_data))\n",
        "                    )"
      ],
      "metadata": {
        "colab": {
          "base_uri": "https://localhost:8080/"
        },
        "id": "HoFo-hX53nxA",
        "outputId": "c718a606-c7de-4c65-8706-ce3a631426be"
      },
      "execution_count": 10,
      "outputs": [
        {
          "output_type": "stream",
          "name": "stdout",
          "text": [
            "Epoch 1/50\n",
            "188/188 [==============================] - 1760s 9s/step - loss: 0.6454 - accuracy: 0.7505 - val_loss: 0.6155 - val_accuracy: 0.7560\n",
            "Epoch 2/50\n",
            "188/188 [==============================] - 27s 139ms/step - loss: 0.5880 - accuracy: 0.7505 - val_loss: 0.5653 - val_accuracy: 0.7601\n",
            "Epoch 3/50\n",
            "188/188 [==============================] - 26s 135ms/step - loss: 0.5573 - accuracy: 0.7505 - val_loss: 0.5395 - val_accuracy: 0.7581\n",
            "Epoch 4/50\n",
            "188/188 [==============================] - 26s 136ms/step - loss: 0.5329 - accuracy: 0.7505 - val_loss: 0.5194 - val_accuracy: 0.7540\n",
            "Epoch 5/50\n",
            "188/188 [==============================] - 26s 136ms/step - loss: 0.5100 - accuracy: 0.7505 - val_loss: 0.5099 - val_accuracy: 0.7621\n",
            "Epoch 6/50\n",
            "188/188 [==============================] - 27s 137ms/step - loss: 0.4941 - accuracy: 0.7505 - val_loss: 0.5055 - val_accuracy: 0.7581\n",
            "Epoch 7/50\n",
            "188/188 [==============================] - 26s 133ms/step - loss: 0.4842 - accuracy: 0.7505 - val_loss: 0.4720 - val_accuracy: 0.7641\n",
            "Epoch 8/50\n",
            "188/188 [==============================] - 28s 144ms/step - loss: 0.4625 - accuracy: 0.7505 - val_loss: 0.4206 - val_accuracy: 0.7510\n",
            "Epoch 9/50\n",
            "188/188 [==============================] - 30s 154ms/step - loss: 0.4676 - accuracy: 0.7505 - val_loss: 0.4230 - val_accuracy: 0.7560\n",
            "Epoch 10/50\n",
            "188/188 [==============================] - 28s 146ms/step - loss: 0.4505 - accuracy: 0.7774 - val_loss: 0.4077 - val_accuracy: 0.8347\n",
            "Epoch 11/50\n",
            "188/188 [==============================] - 29s 148ms/step - loss: 0.4307 - accuracy: 0.7955 - val_loss: 0.4108 - val_accuracy: 0.8397\n",
            "Epoch 12/50\n",
            "188/188 [==============================] - 27s 139ms/step - loss: 0.4309 - accuracy: 0.8062 - val_loss: 0.4067 - val_accuracy: 0.8498\n",
            "Epoch 13/50\n",
            "188/188 [==============================] - 28s 143ms/step - loss: 0.4387 - accuracy: 0.7937 - val_loss: 0.4130 - val_accuracy: 0.8145\n",
            "Epoch 14/50\n",
            "188/188 [==============================] - 28s 143ms/step - loss: 0.4297 - accuracy: 0.8042 - val_loss: 0.3831 - val_accuracy: 0.8347\n",
            "Epoch 15/50\n",
            "188/188 [==============================] - 26s 136ms/step - loss: 0.3975 - accuracy: 0.8336 - val_loss: 0.4036 - val_accuracy: 0.8175\n",
            "Epoch 16/50\n",
            "188/188 [==============================] - 27s 137ms/step - loss: 0.4048 - accuracy: 0.8220 - val_loss: 0.3898 - val_accuracy: 0.8317\n",
            "Epoch 17/50\n",
            "188/188 [==============================] - 27s 140ms/step - loss: 0.4004 - accuracy: 0.8193 - val_loss: 0.3794 - val_accuracy: 0.8478\n",
            "Epoch 18/50\n",
            "188/188 [==============================] - 26s 136ms/step - loss: 0.3958 - accuracy: 0.8128 - val_loss: 0.4176 - val_accuracy: 0.8054\n",
            "Epoch 19/50\n",
            "188/188 [==============================] - 26s 133ms/step - loss: 0.3822 - accuracy: 0.8296 - val_loss: 0.3637 - val_accuracy: 0.8700\n",
            "Epoch 20/50\n",
            "188/188 [==============================] - 26s 135ms/step - loss: 0.3753 - accuracy: 0.8361 - val_loss: 0.4347 - val_accuracy: 0.8105\n",
            "Epoch 21/50\n",
            "188/188 [==============================] - 26s 136ms/step - loss: 0.3742 - accuracy: 0.8358 - val_loss: 0.4873 - val_accuracy: 0.7550\n",
            "Epoch 22/50\n",
            "188/188 [==============================] - 27s 140ms/step - loss: 0.3717 - accuracy: 0.8350 - val_loss: 0.4028 - val_accuracy: 0.8357\n",
            "Epoch 23/50\n",
            "188/188 [==============================] - 25s 131ms/step - loss: 0.3536 - accuracy: 0.8469 - val_loss: 0.4000 - val_accuracy: 0.8488\n",
            "Epoch 24/50\n",
            "188/188 [==============================] - 28s 145ms/step - loss: 0.3500 - accuracy: 0.8586 - val_loss: 0.3835 - val_accuracy: 0.8558\n",
            "Epoch 25/50\n",
            "188/188 [==============================] - 26s 136ms/step - loss: 0.3483 - accuracy: 0.8543 - val_loss: 0.4010 - val_accuracy: 0.8438\n",
            "Epoch 26/50\n",
            "188/188 [==============================] - 26s 136ms/step - loss: 0.3469 - accuracy: 0.8543 - val_loss: 0.3858 - val_accuracy: 0.8337\n",
            "Epoch 27/50\n",
            "188/188 [==============================] - 26s 137ms/step - loss: 0.3379 - accuracy: 0.8608 - val_loss: 0.4257 - val_accuracy: 0.8296\n",
            "Epoch 28/50\n",
            "188/188 [==============================] - 27s 140ms/step - loss: 0.3445 - accuracy: 0.8594 - val_loss: 0.3748 - val_accuracy: 0.8498\n",
            "Epoch 29/50\n",
            "188/188 [==============================] - 26s 133ms/step - loss: 0.3271 - accuracy: 0.8654 - val_loss: 0.4109 - val_accuracy: 0.8135\n",
            "Epoch 30/50\n",
            "188/188 [==============================] - 26s 133ms/step - loss: 0.3217 - accuracy: 0.8659 - val_loss: 0.3972 - val_accuracy: 0.8528\n",
            "Epoch 31/50\n",
            "188/188 [==============================] - 26s 131ms/step - loss: 0.3179 - accuracy: 0.8677 - val_loss: 0.4057 - val_accuracy: 0.8236\n",
            "Epoch 32/50\n",
            "188/188 [==============================] - 28s 143ms/step - loss: 0.3166 - accuracy: 0.8709 - val_loss: 0.4020 - val_accuracy: 0.8175\n",
            "Epoch 33/50\n",
            "188/188 [==============================] - 26s 134ms/step - loss: 0.3267 - accuracy: 0.8654 - val_loss: 0.3558 - val_accuracy: 0.8538\n",
            "Epoch 34/50\n",
            "188/188 [==============================] - 26s 135ms/step - loss: 0.3111 - accuracy: 0.8777 - val_loss: 0.3688 - val_accuracy: 0.8478\n",
            "Epoch 35/50\n",
            "188/188 [==============================] - 27s 139ms/step - loss: 0.3350 - accuracy: 0.8626 - val_loss: 0.3900 - val_accuracy: 0.8276\n",
            "Epoch 36/50\n",
            "188/188 [==============================] - 28s 142ms/step - loss: 0.3068 - accuracy: 0.8787 - val_loss: 0.4180 - val_accuracy: 0.8306\n",
            "Epoch 37/50\n",
            "188/188 [==============================] - 27s 143ms/step - loss: 0.3220 - accuracy: 0.8669 - val_loss: 0.3968 - val_accuracy: 0.8327\n",
            "Epoch 38/50\n",
            "188/188 [==============================] - 27s 139ms/step - loss: 0.2919 - accuracy: 0.8859 - val_loss: 0.4326 - val_accuracy: 0.8448\n",
            "Epoch 39/50\n",
            "188/188 [==============================] - 27s 139ms/step - loss: 0.3246 - accuracy: 0.8651 - val_loss: 0.4495 - val_accuracy: 0.8085\n",
            "Epoch 40/50\n",
            "188/188 [==============================] - 32s 168ms/step - loss: 0.3296 - accuracy: 0.8659 - val_loss: 0.3953 - val_accuracy: 0.8468\n",
            "Epoch 41/50\n",
            "188/188 [==============================] - 27s 142ms/step - loss: 0.3064 - accuracy: 0.8741 - val_loss: 0.4282 - val_accuracy: 0.8286\n",
            "Epoch 42/50\n",
            "188/188 [==============================] - 27s 142ms/step - loss: 0.2999 - accuracy: 0.8812 - val_loss: 0.4154 - val_accuracy: 0.8236\n",
            "Epoch 43/50\n",
            "188/188 [==============================] - 27s 138ms/step - loss: 0.2941 - accuracy: 0.8820 - val_loss: 0.3715 - val_accuracy: 0.8498\n",
            "Epoch 44/50\n",
            "188/188 [==============================] - 27s 138ms/step - loss: 0.3052 - accuracy: 0.8772 - val_loss: 0.3513 - val_accuracy: 0.8569\n",
            "Epoch 45/50\n",
            "188/188 [==============================] - 26s 137ms/step - loss: 0.2930 - accuracy: 0.8824 - val_loss: 0.4270 - val_accuracy: 0.8427\n",
            "Epoch 46/50\n",
            "188/188 [==============================] - 27s 141ms/step - loss: 0.2787 - accuracy: 0.8892 - val_loss: 0.3789 - val_accuracy: 0.8468\n",
            "Epoch 47/50\n",
            "188/188 [==============================] - 28s 142ms/step - loss: 0.2797 - accuracy: 0.8869 - val_loss: 0.4470 - val_accuracy: 0.8377\n",
            "Epoch 48/50\n",
            "188/188 [==============================] - 27s 138ms/step - loss: 0.3157 - accuracy: 0.8739 - val_loss: 0.4186 - val_accuracy: 0.8306\n",
            "Epoch 49/50\n",
            "188/188 [==============================] - 26s 133ms/step - loss: 0.3053 - accuracy: 0.8756 - val_loss: 0.4493 - val_accuracy: 0.8034\n",
            "Epoch 50/50\n",
            "188/188 [==============================] - 26s 132ms/step - loss: 0.2919 - accuracy: 0.8782 - val_loss: 0.4108 - val_accuracy: 0.8306\n"
          ]
        }
      ]
    },
    {
      "cell_type": "code",
      "source": [
        "# 훈련된 모델을 test data로 평가하여 성능을 확인합니다\n",
        "\n",
        "model_CNN.evaluate(test_data)"
      ],
      "metadata": {
        "colab": {
          "base_uri": "https://localhost:8080/"
        },
        "id": "lLFXtRiI3pqc",
        "outputId": "560ee76c-4267-4630-db9b-dbd7e39bfd5d"
      },
      "execution_count": 11,
      "outputs": [
        {
          "output_type": "stream",
          "name": "stdout",
          "text": [
            "63/63 [==============================] - 514s 8s/step - loss: 0.4629 - accuracy: 0.8050\n"
          ]
        },
        {
          "output_type": "execute_result",
          "data": {
            "text/plain": [
              "[0.462939977645874, 0.8050000071525574]"
            ]
          },
          "metadata": {},
          "execution_count": 11
        }
      ]
    },
    {
      "cell_type": "markdown",
      "source": [
        "10000개의 data를 train : validation : test = 6 : 2 : 2의 비율로 나눠 CNN을 한 결과, 정확도는 약 80% 정도로 10000개의 DATA로만 해도 상당히 높은 정확도를 보이고 있습니다."
      ],
      "metadata": {
        "id": "_JxgHVw2nK4S"
      }
    },
    {
      "cell_type": "code",
      "source": [
        "# F1 score로도 평가해보기 위해 f1 score 함수를 정의했습니다.\n",
        "\n",
        "import tensorflow as tf\n",
        "from tensorflow.keras import backend as K\n",
        "\n",
        "def f1_score(y_true, y_pred):\n",
        "    y_pred = K.round(y_pred)\n",
        "    tp = K.sum(K.cast(y_true * y_pred, 'float'), axis=0)\n",
        "    tn = K.sum(K.cast((1 - y_true) * (1 - y_pred), 'float'), axis=0)\n",
        "    fp = K.sum(K.cast((1 - y_true) * y_pred, 'float'), axis=0)\n",
        "    fn = K.sum(K.cast(y_true * (1 - y_pred), 'float'), axis=0)\n",
        "\n",
        "    precision = tp / (tp + fp + K.epsilon())\n",
        "    recall = tp / (tp + fn + K.epsilon())\n",
        "\n",
        "    f1 = 2 * precision * recall / (precision + recall + K.epsilon())\n",
        "    f1 = tf.where(tf.math.is_nan(f1), tf.zeros_like(f1), f1)\n",
        "    return K.mean(f1)\n"
      ],
      "metadata": {
        "id": "03c4yF4wTYTa"
      },
      "execution_count": 14,
      "outputs": []
    },
    {
      "cell_type": "code",
      "source": [
        "# F1 score를 평가 지표로 추가했습니다\n",
        "\n",
        "model_CNN.compile(optimizer = tf.keras.optimizers.Adam(),\n",
        "                loss = 'BinaryCrossentropy',\n",
        "                metrics=['accuracy', f1_score])"
      ],
      "metadata": {
        "id": "O7CQCE_5YhBE"
      },
      "execution_count": 15,
      "outputs": []
    },
    {
      "cell_type": "code",
      "source": [
        "# 지표를 추가하였으니 다시 fitting을 합니다\n",
        "\n",
        "hist = model_CNN.fit(train_data,\n",
        "                    epochs = 50,\n",
        "                    validation_data = validation_data,\n",
        "                    validation_steps = int(0.5 * len(validation_data))\n",
        "                    )"
      ],
      "metadata": {
        "colab": {
          "base_uri": "https://localhost:8080/"
        },
        "id": "6MrBX-OIYkjD",
        "outputId": "d59fe9ca-4af3-4002-d0c2-a0b9729fc9f7"
      },
      "execution_count": 16,
      "outputs": [
        {
          "output_type": "stream",
          "name": "stdout",
          "text": [
            "Epoch 1/50\n",
            "188/188 [==============================] - 30s 128ms/step - loss: 0.2822 - accuracy: 0.8869 - f1_score: 0.8290 - val_loss: 0.4221 - val_accuracy: 0.8216 - val_f1_score: 0.6851\n",
            "Epoch 2/50\n",
            "188/188 [==============================] - 24s 123ms/step - loss: 0.2678 - accuracy: 0.8937 - f1_score: 0.8431 - val_loss: 0.3911 - val_accuracy: 0.8448 - val_f1_score: 0.7438\n",
            "Epoch 3/50\n",
            "188/188 [==============================] - 25s 127ms/step - loss: 0.2807 - accuracy: 0.8907 - f1_score: 0.8385 - val_loss: 0.4171 - val_accuracy: 0.8367 - val_f1_score: 0.7088\n",
            "Epoch 4/50\n",
            "188/188 [==============================] - 24s 125ms/step - loss: 0.2815 - accuracy: 0.8902 - f1_score: 0.8392 - val_loss: 0.3854 - val_accuracy: 0.8508 - val_f1_score: 0.7524\n",
            "Epoch 5/50\n",
            "188/188 [==============================] - 24s 123ms/step - loss: 0.2847 - accuracy: 0.8885 - f1_score: 0.8415 - val_loss: 0.4462 - val_accuracy: 0.8448 - val_f1_score: 0.7524\n",
            "Epoch 6/50\n",
            "188/188 [==============================] - 25s 131ms/step - loss: 0.2837 - accuracy: 0.8929 - f1_score: 0.8398 - val_loss: 0.4880 - val_accuracy: 0.8367 - val_f1_score: 0.7196\n",
            "Epoch 7/50\n",
            "188/188 [==============================] - 30s 158ms/step - loss: 0.2811 - accuracy: 0.8935 - f1_score: 0.8410 - val_loss: 0.4361 - val_accuracy: 0.8276 - val_f1_score: 0.6722\n",
            "Epoch 8/50\n",
            "188/188 [==============================] - 24s 124ms/step - loss: 0.2765 - accuracy: 0.8889 - f1_score: 0.8265 - val_loss: 0.3826 - val_accuracy: 0.8448 - val_f1_score: 0.7550\n",
            "Epoch 9/50\n",
            "188/188 [==============================] - 24s 125ms/step - loss: 0.2628 - accuracy: 0.8965 - f1_score: 0.8468 - val_loss: 0.3723 - val_accuracy: 0.8548 - val_f1_score: 0.7545\n",
            "Epoch 10/50\n",
            "188/188 [==============================] - 24s 126ms/step - loss: 0.2712 - accuracy: 0.8929 - f1_score: 0.8417 - val_loss: 0.3944 - val_accuracy: 0.8317 - val_f1_score: 0.7581\n",
            "Epoch 11/50\n",
            "188/188 [==============================] - 26s 133ms/step - loss: 0.2513 - accuracy: 0.9018 - f1_score: 0.8507 - val_loss: 0.4637 - val_accuracy: 0.8145 - val_f1_score: 0.6797\n",
            "Epoch 12/50\n",
            "188/188 [==============================] - 27s 138ms/step - loss: 0.2612 - accuracy: 0.8975 - f1_score: 0.8485 - val_loss: 0.3660 - val_accuracy: 0.8438 - val_f1_score: 0.7620\n",
            "Epoch 13/50\n",
            "188/188 [==============================] - 27s 137ms/step - loss: 0.2524 - accuracy: 0.9037 - f1_score: 0.8591 - val_loss: 0.3631 - val_accuracy: 0.8508 - val_f1_score: 0.7827\n",
            "Epoch 14/50\n",
            "188/188 [==============================] - 26s 136ms/step - loss: 0.2420 - accuracy: 0.9108 - f1_score: 0.8704 - val_loss: 0.4143 - val_accuracy: 0.8407 - val_f1_score: 0.7428\n",
            "Epoch 15/50\n",
            "188/188 [==============================] - 25s 128ms/step - loss: 0.2529 - accuracy: 0.9070 - f1_score: 0.8643 - val_loss: 0.4291 - val_accuracy: 0.8317 - val_f1_score: 0.7252\n",
            "Epoch 16/50\n",
            "188/188 [==============================] - 25s 129ms/step - loss: 0.2473 - accuracy: 0.9072 - f1_score: 0.8646 - val_loss: 0.4164 - val_accuracy: 0.8357 - val_f1_score: 0.6982\n",
            "Epoch 17/50\n",
            "188/188 [==============================] - 23s 119ms/step - loss: 0.2511 - accuracy: 0.9013 - f1_score: 0.8585 - val_loss: 0.3835 - val_accuracy: 0.8548 - val_f1_score: 0.7605\n",
            "Epoch 18/50\n",
            "188/188 [==============================] - 26s 136ms/step - loss: 0.2455 - accuracy: 0.9053 - f1_score: 0.8655 - val_loss: 0.4172 - val_accuracy: 0.8508 - val_f1_score: 0.7368\n",
            "Epoch 19/50\n",
            "188/188 [==============================] - 25s 130ms/step - loss: 0.2470 - accuracy: 0.9060 - f1_score: 0.8636 - val_loss: 0.3925 - val_accuracy: 0.8498 - val_f1_score: 0.7588\n",
            "Epoch 20/50\n",
            "188/188 [==============================] - 25s 130ms/step - loss: 0.2444 - accuracy: 0.9077 - f1_score: 0.8646 - val_loss: 0.4518 - val_accuracy: 0.8377 - val_f1_score: 0.7116\n",
            "Epoch 21/50\n",
            "188/188 [==============================] - 27s 141ms/step - loss: 0.2508 - accuracy: 0.9078 - f1_score: 0.8652 - val_loss: 0.3864 - val_accuracy: 0.8609 - val_f1_score: 0.7667\n",
            "Epoch 22/50\n",
            "188/188 [==============================] - 25s 129ms/step - loss: 0.2946 - accuracy: 0.8840 - f1_score: 0.8349 - val_loss: 0.4380 - val_accuracy: 0.8276 - val_f1_score: 0.6939\n",
            "Epoch 23/50\n",
            "188/188 [==============================] - 26s 135ms/step - loss: 0.2760 - accuracy: 0.8950 - f1_score: 0.8476 - val_loss: 0.3561 - val_accuracy: 0.8569 - val_f1_score: 0.7904\n",
            "Epoch 24/50\n",
            "188/188 [==============================] - 25s 130ms/step - loss: 0.2390 - accuracy: 0.9122 - f1_score: 0.8734 - val_loss: 0.3894 - val_accuracy: 0.8407 - val_f1_score: 0.7455\n",
            "Epoch 25/50\n",
            "188/188 [==============================] - 25s 129ms/step - loss: 0.2375 - accuracy: 0.9087 - f1_score: 0.8640 - val_loss: 0.4144 - val_accuracy: 0.8317 - val_f1_score: 0.7121\n",
            "Epoch 26/50\n",
            "188/188 [==============================] - 25s 128ms/step - loss: 0.2359 - accuracy: 0.9122 - f1_score: 0.8714 - val_loss: 0.4132 - val_accuracy: 0.8448 - val_f1_score: 0.7184\n",
            "Epoch 27/50\n",
            "188/188 [==============================] - 25s 128ms/step - loss: 0.2357 - accuracy: 0.9117 - f1_score: 0.8697 - val_loss: 0.3997 - val_accuracy: 0.8508 - val_f1_score: 0.7517\n",
            "Epoch 28/50\n",
            "188/188 [==============================] - 25s 131ms/step - loss: 0.2300 - accuracy: 0.9122 - f1_score: 0.8729 - val_loss: 0.4687 - val_accuracy: 0.8276 - val_f1_score: 0.6850\n",
            "Epoch 29/50\n",
            "188/188 [==============================] - 25s 127ms/step - loss: 0.2417 - accuracy: 0.9105 - f1_score: 0.8711 - val_loss: 0.4177 - val_accuracy: 0.8579 - val_f1_score: 0.7402\n",
            "Epoch 30/50\n",
            "188/188 [==============================] - 24s 126ms/step - loss: 0.2376 - accuracy: 0.9087 - f1_score: 0.8672 - val_loss: 0.4215 - val_accuracy: 0.8488 - val_f1_score: 0.7310\n",
            "Epoch 31/50\n",
            "188/188 [==============================] - 26s 133ms/step - loss: 0.2452 - accuracy: 0.9065 - f1_score: 0.8636 - val_loss: 0.4018 - val_accuracy: 0.8498 - val_f1_score: 0.7577\n",
            "Epoch 32/50\n",
            "188/188 [==============================] - 24s 124ms/step - loss: 0.2307 - accuracy: 0.9127 - f1_score: 0.8725 - val_loss: 0.4150 - val_accuracy: 0.8438 - val_f1_score: 0.7207\n",
            "Epoch 33/50\n",
            "188/188 [==============================] - 26s 136ms/step - loss: 0.2274 - accuracy: 0.9178 - f1_score: 0.8775 - val_loss: 0.4397 - val_accuracy: 0.8266 - val_f1_score: 0.6918\n",
            "Epoch 34/50\n",
            "188/188 [==============================] - 26s 132ms/step - loss: 0.2237 - accuracy: 0.9153 - f1_score: 0.8790 - val_loss: 0.4355 - val_accuracy: 0.8448 - val_f1_score: 0.7491\n",
            "Epoch 35/50\n",
            "188/188 [==============================] - 26s 134ms/step - loss: 0.2418 - accuracy: 0.9100 - f1_score: 0.8724 - val_loss: 0.4712 - val_accuracy: 0.8296 - val_f1_score: 0.6990\n",
            "Epoch 36/50\n",
            "188/188 [==============================] - 25s 129ms/step - loss: 0.2193 - accuracy: 0.9180 - f1_score: 0.8802 - val_loss: 0.3826 - val_accuracy: 0.8589 - val_f1_score: 0.7721\n",
            "Epoch 37/50\n",
            "188/188 [==============================] - 24s 125ms/step - loss: 0.2203 - accuracy: 0.9177 - f1_score: 0.8781 - val_loss: 0.4150 - val_accuracy: 0.8306 - val_f1_score: 0.7314\n",
            "Epoch 38/50\n",
            "188/188 [==============================] - 25s 131ms/step - loss: 0.2361 - accuracy: 0.9050 - f1_score: 0.8641 - val_loss: 0.4418 - val_accuracy: 0.8397 - val_f1_score: 0.7301\n",
            "Epoch 39/50\n",
            "188/188 [==============================] - 26s 132ms/step - loss: 0.2110 - accuracy: 0.9211 - f1_score: 0.8866 - val_loss: 0.4186 - val_accuracy: 0.8619 - val_f1_score: 0.7517\n",
            "Epoch 40/50\n",
            "188/188 [==============================] - 25s 131ms/step - loss: 0.2131 - accuracy: 0.9215 - f1_score: 0.8881 - val_loss: 0.4670 - val_accuracy: 0.8306 - val_f1_score: 0.7309\n",
            "Epoch 41/50\n",
            "188/188 [==============================] - 25s 131ms/step - loss: 0.2244 - accuracy: 0.9142 - f1_score: 0.8761 - val_loss: 0.4901 - val_accuracy: 0.8306 - val_f1_score: 0.7213\n",
            "Epoch 42/50\n",
            "188/188 [==============================] - 25s 131ms/step - loss: 0.2183 - accuracy: 0.9208 - f1_score: 0.8858 - val_loss: 0.3742 - val_accuracy: 0.8710 - val_f1_score: 0.8001\n",
            "Epoch 43/50\n",
            "188/188 [==============================] - 24s 123ms/step - loss: 0.2155 - accuracy: 0.9193 - f1_score: 0.8861 - val_loss: 0.4025 - val_accuracy: 0.8538 - val_f1_score: 0.7790\n",
            "Epoch 44/50\n",
            "188/188 [==============================] - 26s 137ms/step - loss: 0.2008 - accuracy: 0.9245 - f1_score: 0.8915 - val_loss: 0.3953 - val_accuracy: 0.8649 - val_f1_score: 0.7832\n",
            "Epoch 45/50\n",
            "188/188 [==============================] - 25s 130ms/step - loss: 0.2304 - accuracy: 0.9163 - f1_score: 0.8772 - val_loss: 0.4451 - val_accuracy: 0.8679 - val_f1_score: 0.7698\n",
            "Epoch 46/50\n",
            "188/188 [==============================] - 25s 130ms/step - loss: 0.2179 - accuracy: 0.9220 - f1_score: 0.8875 - val_loss: 0.4226 - val_accuracy: 0.8669 - val_f1_score: 0.7613\n",
            "Epoch 47/50\n",
            "188/188 [==============================] - 25s 128ms/step - loss: 0.2112 - accuracy: 0.9218 - f1_score: 0.8871 - val_loss: 0.4166 - val_accuracy: 0.8659 - val_f1_score: 0.7838\n",
            "Epoch 48/50\n",
            "188/188 [==============================] - 24s 126ms/step - loss: 0.2015 - accuracy: 0.9261 - f1_score: 0.8947 - val_loss: 0.3976 - val_accuracy: 0.8639 - val_f1_score: 0.7996\n",
            "Epoch 49/50\n",
            "188/188 [==============================] - 26s 135ms/step - loss: 0.2082 - accuracy: 0.9225 - f1_score: 0.8862 - val_loss: 0.4567 - val_accuracy: 0.8488 - val_f1_score: 0.7579\n",
            "Epoch 50/50\n",
            "188/188 [==============================] - 26s 133ms/step - loss: 0.2256 - accuracy: 0.9142 - f1_score: 0.8795 - val_loss: 0.4267 - val_accuracy: 0.8599 - val_f1_score: 0.7828\n"
          ]
        }
      ]
    },
    {
      "cell_type": "code",
      "source": [
        "# test data로 평가합니다. F1 score가 평가 지표로 추가된 것을 확인할 수 있습니다.\n",
        "# 10000개의 데이터를 이용했을 때는 정확도에 비해 F1 score가 크지 않음을 알 수 있습니다. (약 0.45)\n",
        "\n",
        "model_CNN.evaluate(test_data)"
      ],
      "metadata": {
        "colab": {
          "base_uri": "https://localhost:8080/"
        },
        "id": "eGeIdmlVY0zd",
        "outputId": "2b53f2ec-a212-4d81-f6a2-41ff96b9839f"
      },
      "execution_count": 17,
      "outputs": [
        {
          "output_type": "stream",
          "name": "stdout",
          "text": [
            "63/63 [==============================] - 7s 117ms/step - loss: 0.5206 - accuracy: 0.8140 - f1_score: 0.4500\n"
          ]
        },
        {
          "output_type": "execute_result",
          "data": {
            "text/plain": [
              "[0.5206106305122375, 0.8140000104904175, 0.44999340176582336]"
            ]
          },
          "metadata": {},
          "execution_count": 17
        }
      ]
    },
    {
      "cell_type": "code",
      "source": [
        "# F1 score가 정확도에 비해 낮은 이유를 분석하기 위해 confusion matrix를 그려봅니다.\n",
        "\n",
        "import numpy as np\n",
        "import matplotlib.pyplot as plt\n",
        "from sklearn.metrics import confusion_matrix\n",
        "\n",
        "# 테스트 데이터셋에서 예측값과 실제 라벨을 가져옵니다.\n",
        "y_pred = []\n",
        "y_true = []\n",
        "for images, labels in test_data:\n",
        "    y_pred_batch = model_CNN.predict(images)\n",
        "    y_pred.extend(np.argmax(y_pred_batch, axis=1))\n",
        "    y_true.extend(np.argmax(labels, axis=1))\n",
        "\n",
        "# 혼동 행렬 계산\n",
        "conf_matrix = confusion_matrix(y_true, y_pred)\n",
        "\n",
        "# 혼동 행렬 그리기\n",
        "plt.figure(figsize=(8, 6))\n",
        "plt.imshow(conf_matrix, interpolation='nearest', cmap=plt.cm.Blues)\n",
        "plt.title('Confusion Matrix')\n",
        "plt.colorbar()\n",
        "\n",
        "num_classes = len(conf_matrix)\n",
        "tick_marks = np.arange(num_classes)\n",
        "plt.xticks(tick_marks, range(num_classes))\n",
        "plt.yticks(tick_marks, range(num_classes))\n",
        "\n",
        "thresh = conf_matrix.max() / 2.\n",
        "for i in range(num_classes):\n",
        "    for j in range(num_classes):\n",
        "        plt.text(j, i, format(conf_matrix[i, j], 'd'),\n",
        "                 horizontalalignment=\"center\",\n",
        "                 color=\"white\" if conf_matrix[i, j] > thresh else \"black\")\n",
        "\n",
        "plt.tight_layout()\n",
        "plt.xlabel('Predicted label')\n",
        "plt.ylabel('True label')\n",
        "plt.show()\n"
      ],
      "metadata": {
        "colab": {
          "base_uri": "https://localhost:8080/",
          "height": 1000
        },
        "id": "e1arZzuyfjVb",
        "outputId": "7eae4254-d265-4c8b-9c5c-c54b5d702102"
      },
      "execution_count": 18,
      "outputs": [
        {
          "output_type": "stream",
          "name": "stdout",
          "text": [
            "1/1 [==============================] - 1s 964ms/step\n",
            "1/1 [==============================] - 0s 75ms/step\n",
            "1/1 [==============================] - 0s 118ms/step\n",
            "1/1 [==============================] - 0s 83ms/step\n",
            "1/1 [==============================] - 0s 122ms/step\n",
            "1/1 [==============================] - 0s 76ms/step\n",
            "1/1 [==============================] - 0s 50ms/step\n",
            "1/1 [==============================] - 0s 88ms/step\n",
            "1/1 [==============================] - 0s 117ms/step\n",
            "1/1 [==============================] - 0s 84ms/step\n",
            "1/1 [==============================] - 0s 169ms/step\n",
            "1/1 [==============================] - 0s 186ms/step\n",
            "1/1 [==============================] - 0s 120ms/step\n",
            "1/1 [==============================] - 0s 121ms/step\n",
            "1/1 [==============================] - 0s 132ms/step\n",
            "1/1 [==============================] - 0s 148ms/step\n",
            "1/1 [==============================] - 0s 142ms/step\n",
            "1/1 [==============================] - 0s 125ms/step\n",
            "1/1 [==============================] - 0s 60ms/step\n",
            "1/1 [==============================] - 0s 132ms/step\n",
            "1/1 [==============================] - 0s 137ms/step\n",
            "1/1 [==============================] - 0s 135ms/step\n",
            "1/1 [==============================] - 0s 87ms/step\n",
            "1/1 [==============================] - 0s 205ms/step\n",
            "1/1 [==============================] - 0s 67ms/step\n",
            "1/1 [==============================] - 0s 91ms/step\n",
            "1/1 [==============================] - 0s 102ms/step\n",
            "1/1 [==============================] - 0s 145ms/step\n",
            "1/1 [==============================] - 0s 45ms/step\n",
            "1/1 [==============================] - 0s 228ms/step\n",
            "1/1 [==============================] - 0s 183ms/step\n",
            "1/1 [==============================] - 0s 105ms/step\n",
            "1/1 [==============================] - 0s 123ms/step\n",
            "1/1 [==============================] - 0s 115ms/step\n",
            "1/1 [==============================] - 0s 139ms/step\n",
            "1/1 [==============================] - 0s 80ms/step\n",
            "1/1 [==============================] - 0s 202ms/step\n",
            "1/1 [==============================] - 0s 104ms/step\n",
            "1/1 [==============================] - 0s 132ms/step\n",
            "1/1 [==============================] - 0s 194ms/step\n",
            "1/1 [==============================] - 0s 109ms/step\n",
            "1/1 [==============================] - 0s 113ms/step\n",
            "1/1 [==============================] - 0s 127ms/step\n",
            "1/1 [==============================] - 0s 106ms/step\n",
            "1/1 [==============================] - 0s 103ms/step\n",
            "1/1 [==============================] - 0s 68ms/step\n",
            "1/1 [==============================] - 0s 93ms/step\n",
            "1/1 [==============================] - 0s 114ms/step\n",
            "1/1 [==============================] - 0s 122ms/step\n",
            "1/1 [==============================] - 0s 147ms/step\n",
            "1/1 [==============================] - 0s 115ms/step\n",
            "1/1 [==============================] - 0s 115ms/step\n",
            "1/1 [==============================] - 0s 124ms/step\n",
            "1/1 [==============================] - 0s 93ms/step\n",
            "1/1 [==============================] - 0s 126ms/step\n",
            "1/1 [==============================] - 0s 105ms/step\n",
            "1/1 [==============================] - 0s 75ms/step\n",
            "1/1 [==============================] - 0s 117ms/step\n",
            "1/1 [==============================] - 0s 50ms/step\n",
            "1/1 [==============================] - 0s 103ms/step\n",
            "1/1 [==============================] - 0s 141ms/step\n",
            "1/1 [==============================] - 0s 63ms/step\n",
            "1/1 [==============================] - 0s 368ms/step\n"
          ]
        },
        {
          "output_type": "display_data",
          "data": {
            "text/plain": [
              "<Figure size 800x600 with 2 Axes>"
            ],
            "image/png": "[encoded data removed]"
          },
          "metadata": {}
        }
      ]
    },
    {
      "cell_type": "markdown",
      "source": [
        "그림을 그려보면 TP에 비해 FN이 TN, FP와 큰 차이가 나지 않아 F1 score가 작게 나옴을 알 수 있습니다.\n",
        "\n",
        "이 현상이 나온 이유는, test data와 validation data, train data set이 모두 fake : real의 비율을 3:1로 맞춰서 넣었기 때문이라 생각합니다.\n",
        "\n",
        "이러한 비율로 넣었던 이유는 저희가 원래 사용하고자 했던 데이터셋이 약 2:8의 비율로 fake 사진과 real 사진을 data set으로 사용했기 때문이었습니다.\n",
        "\n",
        "하지만 이렇게 data set을 사용하게 되면 위의 confusion matrix처럼 FN의 값이 TN, FP와 큰 차이가 나지 않게 되어, 모델의 성능이 매우 뛰어난 것이 아닌 이상, 필수불가결적으로 F1 score가 낮아질 수 밖에 없겠다는 생각이 들었습니다.\n",
        "\n",
        "기존에 저희가 사용하고자 했던 data set은 원래의 REAL 사진을 바탕으로 deepfake 기술을 사용하여 변형한 사진을 fake data로 사용하였습니다. 다양한 방법으로 fake 사진을 만들었기에, 하나의 real data가 여러 개의 fake data를 가지게 되었고, 이에 따라 어쩔 수 없이 fake data의 비중이 real data보다 클 수밖에 없었습니다.\n",
        "\n",
        "하지만 제가 사용한 data는 fake data와 real data가 서로 독립적이기에 이러한 dataset이 있다면, fake data와 real data의 비중을 1:1에 가깝게 학습하고 평가하는 것이 F1 score 값을 높일 수 있는 방법이라고 생각합니다.\n",
        "\n",
        "제가 생각한 개인적인 의견이니 틀릴 수 있습니다. 틀린 점이 있다면 알려주세요!"
      ],
      "metadata": {
        "id": "b0SzDegskwq2"
      }
    }
  ]
}